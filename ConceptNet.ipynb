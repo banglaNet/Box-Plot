{
  "cells": [
    {
      "cell_type": "code",
      "execution_count": null,
      "metadata": {
        "id": "3EMRWMcOuYpk"
      },
      "outputs": [],
      "source": []
    },
    {
      "cell_type": "code",
      "execution_count": null,
      "metadata": {
        "id": "zUtjzJ_i7tCy"
      },
      "outputs": [],
      "source": []
    },
    {
      "cell_type": "code",
      "execution_count": 73,
      "metadata": {
        "id": "BMHnk2cZyQGm",
        "colab": {
          "base_uri": "https://localhost:8080/"
        },
        "outputId": "3d544e76-8bd8-4ffd-fce1-321e5bf85b51"
      },
      "outputs": [
        {
          "output_type": "stream",
          "name": "stdout",
          "text": [
            "['[[floor]] is related to [[ground]]', '[[ground]] is related to [[floor]]', '[[ground]] is related to [[earth]]', '[[ground]] is related to [[dirt]]', 'You are likely to find [[oil]] in [[the ground]]', 'You are likely to find [[dirt ]] in [[the ground]].', '[[ground]] is related to [[under]]', '*Something you find on [[the ground]] is [[rocks]]', '[[ground]] is related to [[below]]', '[[ground]] is related to [[feet]]', '[[mole]] is related to [[ground]]', '*Something you find on [[the ground]] is [[grass]]', '[[land]] is related to [[ground]]', '[[grass]] is related to [[ground]]', '[[ground]] is related to [[soil]]', '[[sand]] is related to [[ground]]', '[[ground]] is the opposite of [[sky]]', '[[ground]] is related to [[surface]]', '*Something you find on [[the ground]] is [[snow]]', 'You are likely to find [[a fungus]] in [[ground]]', '*Something you find on [[the ground]] is [[penny]]', '*Something you find on [[the ground]] is [[a pebble]]', '*Something you find on [[the ground]] is [[a shadow]]', '[[earth]] is related to [[ground]]', '[[ground]] is related to [[outside]]', '[[ground]] is related to [[land]]', '[[ground]] is related to [[walking]]', '[[ground]] is related to [[beneath]]', '[[hill]] is related to [[ground]]', '[[dirt]] is related to [[ground]]', '[[tanah]] is a translation of [[ground]]', '*Something you find on [[the ground]] is [[pebbles]]', '[[ground]] is a synonym of [[get stranded]]', '[[osua pohjaan]] is a translation of [[ground]]', '[[ตั้งพื้น]] is a translation of [[ground]]', '[[ajaa matalikolle]] is a translation of [[ground]]', '[[ground]] is a way to [[restrain]]', '[[พื้น]] is a translation of [[ground]]', '[[maajohto]] is a translation of [[ground]]', '[[bumi]] is a translation of [[ground]]', '[[地面に置く]] is a translation of [[ground]]', '[[สอนพื้นฐาน]] is a translation of [[ground]]', '[[memberikan asas]] is a translation of [[ground]]', '[[terre]] is a translation of [[ground]]', '*Something you find on [[the ground]] is [[sand]]', '[[ground]] is a type of [[percept]]', '[[tanah]] is a translation of [[ground]]', 'You are likely to find [[a steel cable]] in [[the ground]]', '*Something you find under [[a tree]] is [[the ground]]', '[[tausta]] is a translation of [[ground]]', '[[tanah]] is a translation of [[ground]]', '*Something you find on [[the ground]] is [[dog poop]]', '[[วางพื้น]] is a translation of [[ground]]', '[[terra]] is a translation of [[ground]]', '[[mendaratkan]] is a translation of [[ground]]', '[[maatto]] is a translation of [[ground]]', '[[ขว้างลงพื้น]] is a translation of [[ground]]', '[[ground]] is a synonym of [[land]]', '[[ground]] is a synonym of [[prime]]', '[[permukaan bumi]] is a translation of [[ground]]', '[[ต่อสายดิน]] is a translation of [[ground]]', '[[ground]] is a way to [[throw]]', '[[échouer]] is a translation of [[ground]]', '[[lieu]] is a translation of [[ground]]', '[[tocar tierra]] is a translation of [[ground]]', '[[maadoitus]] is a translation of [[ground]]', '[[permukaan bumi]] is a translation of [[ground]]', '[[earth]] is a way to [[ground]]', '[[run aground]] is a synonym of [[ground]]', '[[ground]] is a way to [[teach]]', 'You are likely to find [[a ficus]] in [[the ground]]', '[[アース]] is a translation of [[ground]]', '[[ground]] is a synonym of [[footing]]', '*Something you find on [[the ground]] is [[a rock]]', '[[antaa perustiedot]] is a translation of [[ground]]', '[[接地+する]] is a translation of [[ground]]', '[[ground]] is used in the context of [[electricity]]', '[[sol]] is a translation of [[ground]]', '[[bumi]] is a translation of [[ground]]', '[[ground]] is used in the context of [[football]]', '[[ปูพื้น]] is a translation of [[ground]]', '[[สายกราวด์]] is a translation of [[ground]]', '[[lehenengo geruza]] is a translation of [[ground]]', '[[osua maahan]] is a translation of [[ground]]', '[[ground]] is a type of [[surface]]', '[[menahan keluar]] is a translation of [[ground]]', '[[สอนวิชาพื้นฐาน]] is a translation of [[ground]]', '[[tablo peneli]] is a translation of [[ground]]', '[[opettaa]] is a translation of [[ground]]', '[[latar]] is a translation of [[ground]]', '[[maadoittaa]] is a translation of [[ground]]', '[[pohja]] is a translation of [[ground]]', '[[asettaa maahan]] is a translation of [[ground]]', '[[ground]] is a way to [[hit]]', '[[ต่อสายกราวด์]] is a translation of [[ground]]', '[[基礎を固める]] is a translation of [[ground]]', '[[permukaan bumi]] is a translation of [[ground]]', '[[terra]] is a translation of [[ground]]', '*Something you find on [[the ground]] is [[coin]]', '[[mendaratkan]] is a translation of [[ground]]', '[[massa]] is a translation of [[ground]]', '[[tersadai]] is a translation of [[ground]]', 'You are likely to find [[a pond]] in [[the ground]]', '*Something you find on [[the ground]] is [[moss]]', '[[ground]] is a way to [[reach]]', '[[ground]] is a synonym of [[background]]', '[[tausta]] is a translation of [[ground]]', '[[laittaa maahan]] is a translation of [[ground]]', '[[ground]] is used in the context of [[baseball]]', '[[ground]] is a synonym of [[anchor]]', '[[laittaa lattialle]] is a translation of [[ground]]', '[[haaksirikkoutua]] is a translation of [[ground]]', '[[latar]] is a translation of [[ground]]', '[[menahan keluar]] is a translation of [[ground]]', '[[olla antamatta lähtölupaa]] is a translation of [[ground]]', '[[heittäytyä maahan amerikkalaisessa jalkapallossa]] is a translation of [[ground]]', '[[prétexte]] is a translation of [[ground]]', '[[maakosketus]] is a translation of [[ground]]', '[[ground]] is a type of [[connection]]', '[[asettaa lattialle]] is a translation of [[ground]]', '[[roletear]] is a translation of [[ground]]', '[[litar bumi]] is a translation of [[ground]]', '[[ground]] is a synonym of [[earth]]', '*Something you find under [[ground]] is [[worms]]', '*Something you find on [[the ground]] is [[dust]]', '[[أَرْضِيَّة]] is a translation of [[ground]]', '[[สายดิน]] is a translation of [[ground]]', '[[ground]] is used in the context of [[art]]', '[[masa]] is a translation of [[ground]]', '[[bumi]] is a translation of [[ground]]', '[[terrain]] is a translation of [[ground]]', '[[ปูพื้นฐาน]] is a translation of [[ground]]', '[[tanah]] is a translation of [[ground]]', 'You are likely to find [[a mammoth]] in [[the ground]]', '[[maa]] is a translation of [[ground]]', '[[ground]] is a synonym of [[establish]]', '[[ground]] is a way to [[put]]', '[[maa]] is a translation of [[ground]]', '[[ground]] is a synonym of [[reason]]', '[[kain kanvas]] is a translation of [[ground]]', '[[fondo]] is a translation of [[ground]]', '[[tanah]] is a translation of [[ground]]', '[[earth]] is a synonym of [[ground]]', '[[encallar]] is a translation of [[ground]]', '[[กักตัว]] is a translation of [[ground]]', '[[tanah]] is a translation of [[ground]]', '*Something you find on [[the ground]] is [[trash]]', '[[ตีลงพื้น]] is a translation of [[ground]]', '[[terkandas]] is a translation of [[ground]]', '[[kain kanvas]] is a translation of [[ground]]', '[[basar]] is a translation of [[ground]]', 'You are likely to find [[a hole]] in [[the ground]]', '[[ground]] is a synonym of [[flat coat]]', '[[地]] is a translation of [[ground]]', '[[bumi]] is a translation of [[ground]]', '[[get stranded]] causes [[ground]]', '[[permukaan bumi]] is a translation of [[ground]]', '[[สอนเบสิค]] is a translation of [[ground]]', '[[lyödä maapallo]] is a translation of [[ground]]', '[[ground]] is a way to [[connect]]', '[[alue]] is a translation of [[ground]]', '[[地面につかせる]] is a translation of [[ground]]', '[[määrätä lentokieltoon]] is a translation of [[ground]]', '[[hondo]] is a translation of [[ground]]', '[[ground]] is a type of [[military position]]', '[[ground]] is related to [[grass]]', '[[ground]] is not [[sky]]', '[[ground]] is related to [[under feet]]', '[[plant]] is related to [[ground]]', '[[grave]] is related to [[ground]]', '[[sky]] is the opposite of [[ground]]', '[[ground]] is related to [[outside floor]]', '[[ground]] is related to [[us]]', '[[ground]] is related to [[earth dirt]]', '[[ground]] is related to [[below feet]]', '[[ground]] is related to [[foot]]', '[[seed]] is related to [[ground]]', '[[sky]] is not [[ground]]', '[[ground]] is related to [[underfoot]]', '[[oil]] is related to [[ground]]', '[[ground]] is related to [[walk]]', '[[ground]] is related to [[under foot]]', 'Somewhere [[an insect]] can be is on [[he ground]]', '*Something you find on [[the ground]] is [[paw prints]]', '*Something you find on [[the ground]] is [[leaves]]', '[[The ground]] can [[freeze in the winter]]', '*Something you find on [[the ground]] is [[litter]]', 'Somewhere [[a pilot]] can be is on [[the ground]]', '*Something you find on [[the ground]] is [[dirty]]', 'You are likely to find [[a potato in growing]] in [[the ground]]', '*Something you find on [[the ground]] is [[a foot print]]', '*Something you find on [[the ground]] is [[not flying]]', '*Something you find on [[the ground]] is [[little stones]]', '*Something you find on [[the ground]] is [[a nut]]', '*Something you find on [[the ground]] is [[not in the air]]', '[[walking]] requires [[ground]]', '*Something you find on [[the ground]] is [[money]]', 'You are likely to find [[a cat]] in [[the ground]]', '*Something you find on [[the ground]] is [[pavement]]', '*Something you find on [[the ground]] is [[an acorn]]', 'You are likely to find [[a septic tank]] in [[the ground]].', '*Something you find on [[the ground]] is [[fallen leaves]]', '*Something you find on [[the ground]] is [[weeds]]', '*Something you find on [[the ground]] is [[mushrooms]]', '*Something you find on [[the ground]] is [[a picnic]]', 'The last thing you do when you [[fly a kite]] is [[ground it]]', '[[The ground]] is the [[outermost part of the Earth]]', '[[Ground]] is [[another name for soil]]', '*Something you find on [[the ground]] is [[shadows]]', '*Something you find on [[the ground]] is [[an ear]]', '*Something you find on [[the ground]] is [[slush]]', '[[beef]] can be [[ground]]', '[[Something you find outside]] is the [[ground]]', '*Something you find on [[the ground]] is [[footprints]]', 'Somewhere [[a fan]] can be is in [[a stadium]]', 'You are likely to find [[a track]] in [[a stadium]]', '[[a stadium]] is [[a big place]]', 'You are likely to find [[a toilet]] in [[a stadium]]', '[[circus]] is a type of [[stadium]]', '[[hippodrome]] is a type of [[stadium]]', '[[競技場]] is a translation of [[stadium]]', '[[amphitheater]] is a type of [[stadium]]', 'You can use [[a stadium]] to [[watch ball games]]', '[[اُسْتَاد]] is a translation of [[stadium]]', '[[urheilustadion]] is a translation of [[stadium]]', '[[playing field]] is a part of [[stadium]]', '[[stadion]] is a translation of [[stadium]]', '[[สนามกีฬา]] is a translation of [[stadium]]', '[[stadion]] is a translation of [[stadium]]', 'You are likely to find [[a bleachers]] in [[a stadium]]', '[[skybox]] is a type of [[stadium]]', '[[ballpark]] is a type of [[stadium]]', 'You are likely to find [[a stadium stand]] in [[a stadium]]', '[[stadium]] is a translation of [[stadium]]', 'You are likely to find [[a stadium]] in [[a large city]]', '[[arène]] is a translation of [[stadium]]', '[[medan]] is a translation of [[stadium]]', '[[estadio]] is a translation of [[stadium]]', 'You can use [[a stadium]] to [[play sports]]', '[[estadio]] is a translation of [[stadium]]', '[[アリーナ]] is a translation of [[stadium]]', '[[Estádios]] is a translation of [[stadium]]', '[[مرحله]] is a translation of [[stadium]]', '[[مَلْعَب]] is a translation of [[stadium]]', '[[field house]] is a part of [[stadium]]', '[[مُدّرَّج]] is a translation of [[stadium]]', '[[bowl]] is a synonym of [[stadium]]', '[[gelanggang]] is a translation of [[stadium]]', '[[stadion]] is a translation of [[stadium]]', '[[dome]] is a type of [[stadium]]', '[[stade]] is a translation of [[stadium]]', '[[areena]] is a translation of [[stadium]]', '[[闘技場]] is a translation of [[stadium]]', '[[スタディアム]] is a translation of [[stadium]]', '[[estadi]] is a translation of [[stadium]]', '[[stadion]] is a translation of [[stadium]]', '[[スタジアム]] is a translation of [[stadium]]', '[[ورزشگاه]] is a translation of [[stadium]]', '[[stadion]] is a translation of [[stadium]]', '[[football stadium]] is a type of [[stadium]]', '[[stadion]] is a translation of [[stadium]]', '[[stadium]] is a translation of [[stadium]]', '[[สเตเดียม]] is a translation of [[stadium]]', '[[sports stadium]] is a synonym of [[stadium]]', '[[idrætspark]] is a translation of [[stadium]]', 'You are likely to find [[a stadium]] in [[a city]]', '[[tiered seats]] is a part of [[stadium]]', '[[stadium]] is a translation of [[stadium]]', '[[arena]] is a synonym of [[stadium]]', '[[bullring]] is a type of [[stadium]]', '[[standing room]] is a part of [[stadium]]', '[[estadio]] is a translation of [[stadium]]', '[[球場]] is a translation of [[stadium]]', '[[stand]] is a part of [[stadium]]', '[[estádio]] is a translation of [[stadium]]', '[[idrettspark]] is a translation of [[stadium]]', '[[stadium]] is a type of [[structure]]', '[[arena]] is a translation of [[stadium]]', '[[stadio]] is a translation of [[stadium]]', '[[crowd]] is related to [[stadium]]', '[[a stadium]] is for [[running]]', '[[a stadium]] is used for [[viewing of sporting events]]', 'You are likely to find [[a main entrance]] in [[a stadium]]', 'You can use [[a stadium]] to [[hold a concert]]', '[[a stadium]] is for [[sports]]', 'You are likely to find [[players]] in [[a stadium]]', '[[a stadium]] is used for [[seating at an event]]', 'Somewhere [[an athlete]] can be is [[the stadium]]', 'You are likely to find [[a stadium]] in [[a college town]]', 'You can use [[a stadium]] to [[play sport events]]', '[[a stadium]] is for [[spilling beer]]', '[[a stadium]] is for [[conducting Olympic Games]]', '[[a stadium]] is for [[many people to attend a concert]]', 'You are likely to find [[an entrance]] in [[a stadium]]', 'You are likely to find [[fans]] in [[a stadium]]', '[[A stadium]] is [[a fixed point in space]]', 'You are likely to find [[a human]] in [[a stadium]]', 'You are likely to find [[a soccer field]] in [[a stadium]]', 'You are likely to find [[a locker room]] in [[a stadium]]', 'You are likely to find [[an arena]] in [[a stadium]]', 'You are likely to find [[a ticket office]] in [[a stadium]]', '[[a stadium]] can [[hold spectators]]', 'Somewhere [[a player]] can be is in [[a stadium]]', '[[a stadium]] is for [[recreation and fun]]', '[[a stadium]] is for [[playing sports]]', 'You are likely to find [[a stadium]] in [[rome]]', 'You are likely to find [[a pitcher mound]] in [[a stadium]]', 'You are likely to find [[an audience]] in [[stadium]]', 'You are likely to find [[a sports bat]] in [[a stadium]]', '[[a stadium]] is used for [[games]]', 'You are likely to find [[an exit turnstile]] in [[a stadium]]', '[[a stadium]] is for [[watching others play sports]]', 'You are likely to find [[a vending stand]] in [[a stadium]]', '[[field]] is related to [[stadium]]', '[[stadium]] is related to [[many seats]]', '[[stadium]] is related to [[seats]]', '[[wave]] is related to [[stadium]]', '[[stadium]] is related to [[baseball]]', '[[stadium]] is related to [[for baseball]]', '[[stadium]] is related to [[sporting events]]', '[[stadium]] is related to [[sporting]]', '[[band]] is related to [[stadium]]', '[[stadium]] is related to [[events]]', '[[dome]] is related to [[stadium]]', '[[stadium]] is related to [[arena]]', '[[stadium]] is related to [[ballpark]]', '[[auditorium]] is related to [[stadium]]', '[[horse]] is related to [[stadium]]', '[[track]] is related to [[stadium]]', '[[stadium]] is related to [[where]]', '[[stadium]] is related to [[park]]', '[[stadium]] is related to [[baseball park]]', '[[Treinador]] is a translation of [[coach]]', '[[A coach]] can [[time a runner]]', '[[entraîneur]] is a translation of [[coach]]', '[[conditioner]] is a type of [[coach]]', '[[stërvit]] is a translation of [[coach]]', '[[adiestrador]] is a translation of [[coach]]', '[[ฝึกซ้อม]] is a translation of [[coach]]', '[[precettore]] is a translation of [[coach]]', '[[valmentaja]] is a translation of [[coach]]', '[[entrenadora]] is a translation of [[coach]]', '[[entrenador]] is a translation of [[coach]]', '[[pengurus]] is a translation of [[coach]]', '[[タイカラー]] is a translation of [[coach]]', '[[yksityisopettaja]] is a translation of [[coach]]', '[[pedagogo]] is a translation of [[coach]]', '[[指南役]] is a translation of [[coach]]', '[[CT]] is a translation of [[coach]]', '[[professor particular]] is a translation of [[coach]]', '[[privatlærer]] is a translation of [[coach]]', '[[crammer]] is a type of [[coach]]', '[[aio]] is a translation of [[coach]]', '[[mendidik]] is a translation of [[coach]]', '[[กุนซือ]] is a translation of [[coach]]', '[[コーチ]] is a translation of [[coach]]', '[[pendidik]] is a translation of [[coach]]', '[[tennis coach]] is a type of [[coach]]', '[[avustaja]] is a translation of [[coach]]', '[[โค้ช]] is a translation of [[coach]]', '[[pelatih]] is a translation of [[coach]]', '[[director]] is a translation of [[coach]]', '[[لله]] is a translation of [[coach]]', '[[معلمی کردن]] is a translation of [[coach]]', '[[instructor]] is a translation of [[coach]]', '[[pembantu]] is a translation of [[coach]]', '[[チューター]] is a translation of [[coach]]', '[[cocchio]] is a translation of [[coach]]', '[[coach]] is a way to [[drive]]', '[[coach]] is a type of [[carriage]]', '[[football coach]] is a type of [[coach]]', '[[zalgurdi]] is a translation of [[coach]]', '[[basketball coach]] is a type of [[coach]]', '[[exercer]] is a translation of [[coach]]', '[[mengajar]] is a translation of [[coach]]', '[[mengajar]] is a translation of [[coach]]', '[[allenatore]] is a translation of [[coach]]', '[[pelatih]] is a translation of [[coach]]', '[[técnico]] is a translation of [[coach]]', '[[coach]] is used in the context of [[driving]]', '[[administrateur]] is a translation of [[coach]]', '[[tutor]] is a synonym of [[coach]]', '[[รถม้า]] is a translation of [[coach]]', '[[former]] is a translation of [[coach]]', '[[pengasuh]] is a translation of [[coach]]', '[[coach]] is a type of [[trainer]]', '[[مدیر]] is a translation of [[coach]]', '[[jurulatih]] is a translation of [[coach]]', '[[neljän hevosen vetämät vaunut]] is a translation of [[coach]]', '[[مُدَرِّب]] is a translation of [[coach]]', '[[seleccionador]] is a translation of [[coach]]', '[[preceptor]] is a translation of [[coach]]', '[[hockey coach]] is a type of [[coach]]', '[[karroza]] is a translation of [[coach]]', '[[entrenador]] is a translation of [[coach]]', '[[trajnoj]] is a translation of [[coach]]', '[[指南+する]] is a translation of [[coach]]', '[[tutor]] is a translation of [[coach]]', '[[vettura]] is a translation of [[coach]]', '[[preceptor]] is a translation of [[coach]]', '[[cadre]] is a translation of [[coach]]', '[[your coach]] would make you want to [[play football]]', '[[manager]] is a synonym of [[coach]]', '[[ผู้จัดการทีม]] is a translation of [[coach]]', '[[allenare]] is a translation of [[coach]]', '[[معلمی کردن]] is a translation of [[coach]]', '[[Treinadores]] is a translation of [[coach]]', '[[pengasuh]] is a translation of [[coach]]', '[[jurulatih]] is a translation of [[coach]]', '[[kereta kuda]] is a translation of [[coach]]', '[[pembantu]] is a translation of [[coach]]', '[[melatih]] is a translation of [[coach]]', '[[joukkueenjohtaja]] is a translation of [[coach]]', '[[privatlærer]] is a translation of [[coach]]', '[[titor]] is a translation of [[coach]]', '[[coach]] is a synonym of [[bus]]', '[[mister]] is a translation of [[coach]]', '[[家庭教師]] is a translation of [[coach]]', '[[Commissario Tecnico]] is a translation of [[coach]]', '[[entrenatu]] is a translation of [[coach]]', '[[train]] is a synonym of [[coach]]', '[[handler]] is a synonym of [[coach]]', '[[مَرَّنَ]] is a translation of [[coach]]', '[[coach-and-four]] is a synonym of [[coach]]', '[[pengurus]] is a translation of [[coach]]', '[[tuutori]] is a translation of [[coach]]', '[[técnico]] is a translation of [[coach]]', '[[entraîner]] is a translation of [[coach]]', '[[coach]] is a translation of [[coach]]', '[[coach]] is a way to [[teach]]', '[[dirigeant]] is a translation of [[coach]]', '[[mendidik]] is a translation of [[coach]]', '[[carretel·la]] is a translation of [[coach]]', '[[coach]] is used in the context of [[singing]]', '[[coach]] is a type of [[teacher]]', '[[private instructor]] is a synonym of [[coach]]', '[[trebatu]] is a translation of [[coach]]', '[[coach]] is used in the context of [[sport]]', '[[entrenar]] is a translation of [[coach]]', '[[ติวเตอร์]] is a translation of [[coach]]', '[[manager]] is a translation of [[coach]]', '[[patron]] is a translation of [[coach]]', '[[ครูพิเศษ]] is a translation of [[coach]]', '[[tutor]] is a translation of [[coach]]', '[[gérant]] is a translation of [[coach]]', '[[treinar]] is a translation of [[coach]]', '[[guru peribadi]] is a translation of [[coach]]', '[[privatlærar]] is a translation of [[coach]]', '[[經理]] is a translation of [[coach]]', '[[répétiteur]] is a translation of [[coach]]', '[[autobus]] is a translation of [[coach]]', '[[ohjaaja]] is a translation of [[coach]]', '[[instructor]] is a translation of [[coach]]', '[[entrenadora]] is a translation of [[coach]]', '[[コーチ+する]] is a translation of [[coach]]', '[[directeur]] is a translation of [[coach]]', '[[baseball coach]] is a type of [[coach]]', '[[istitutore]] is a translation of [[coach]]', '[[entrenatzaile]] is a translation of [[coach]]', '[[ajaa vaunuja]] is a translation of [[coach]]', '[[tutoria]] is a translation of [[coach]]', '[[stagecoach]] is a type of [[coach]]', '[[opettaja]] is a translation of [[coach]]', '[[pelatih]] is a translation of [[coach]]', '[[เทรน]] is a translation of [[coach]]', '[[指導+する]] is a translation of [[coach]]', '[[four-in-hand]] is a synonym of [[coach]]', '[[mengajari]] is a translation of [[coach]]', '[[kereta kuda]] is a translation of [[coach]]', '[[directrice]] is a translation of [[coach]]', '[[berlatih]] is a translation of [[coach]]', '[[entraîneur]] is a translation of [[coach]]', '[[אִמֵּן]] is a translation of [[coach]]', '[[tutor]] is a translation of [[coach]]', '[[pendidik]] is a translation of [[coach]]', '[[指南]] is a translation of [[coach]]', '[[entrenar]] is a translation of [[coach]]', '[[coach]] is a synonym of [[passenger car]]', '[[gestionnaire]] is a translation of [[coach]]', '[[A coach]] is [[a person who coaches other people]]', '[[jurulatih]] is a translation of [[coach]]', '[[umpivaunut]] is a translation of [[coach]]', '[[melatih]] is a translation of [[coach]]', '[[irakasle partikular]] is a translation of [[coach]]', '[[box]] is a part of [[coach]]', '[[jurulatih]] is a translation of [[coach]]', '[[membimbing]] is a translation of [[coach]]', '[[entraîneur]] is a translation of [[coach]]', '[[指南番]] is a translation of [[coach]]', '[[míster]] is a translation of [[coach]]', '[[mengajari]] is a translation of [[coach]]', '[[míster]] is a translation of [[coach]]', '[[コーチャー]] is a translation of [[coach]]', '[[pelatih]] is a translation of [[coach]]', '[[valmentaa]] is a translation of [[coach]]', '[[kuomuvaunut]] is a translation of [[coach]]', '[[kocz]] is a translation of [[coach]]', '[[entraîneur]] is a translation of [[coach]]', '[[car]] is a translation of [[coach]]', '[[car]] is a translation of [[coach]]', '[[ขับรถโค้ช]] is a translation of [[coach]]', '[[ผู้ฝึกสอน]] is a translation of [[coach]]', '[[preparar]] is a translation of [[coach]]', '[[coach]] is related to [[team]]', '[[a coach]] can [[push his players]]', '*Something you find at [[a hockey game]] is [[a coach]]', '[[the coach]] would make you want to [[score a home run]]', '[[A coach]] can [[cry foul]]', '[[A coach]] can [[be coaching a team]]', '[[Something you do in a gym]] is [[coach]]', '*Something you find at [[a soccer game]] is [[a coach]]', '[[The coach]] can [[field his team]]', 'You are likely to find [[a coach airline seat]] in [[a coach]]', 'You are likely to find [[a train seat]] in [[a coach]]', \"[[A coach]] can [[time the runner's performance]]\", '[[a plane ticket]] is for [[coach]]', \"[[A coach]] doesn't want [[his team to lose]]\", \"[[a coach]] can [[time his team's speed]]\", '[[A coach]] can [[school a team in basic skills]]', '[[A coach]] can [[ready his atheletes for competition]]', 'You can use [[a pistol]] to [[coach]]', '[[A coach]] is part of [[a football team]].', '[[a coach]] is a kind of [[vehicle]].', '[[a coach]] can [[cut a player]]', '[[A coach]] can [[train you for the competition]]', '[[a coach]] is [[a part of a train]]', '[[A coach]] can [[lead her team]]', '[[a coach]] is a kind of [[wagon]].', '[[a coach]] is [[a manager]]', '[[The coach]] can [[plan a new play]]', '[[a coach]] can [[condition players]]', '*Something you find at [[a sporting event]] is [[a coach]]', '[[A coach]] can [[be backing a player]]', '[[coach]] is related to [[person]]', '[[coach]] is related to [[leader]]', '[[coach]] is related to [[football]]', '[[coach]] is related to [[gym]]', '[[coach]] is related to [[sports]]', '[[coach]] is related to [[team leader]]', '[[instructor]] is related to [[coach]]', '[[stage]] is related to [[coach]]', '[[coach]] is related to [[team manager]]', '[[coach]] is related to [[manager]]', '[[coach]] is related to [[football team]]', '[[carriage]] is related to [[coach]]', '[[coach]] is related to [[teacher]]', '[[coach]] is related to [[team teacher]]', '[[coach]] is related to [[tv]]', '[[coach]] is related to [[tv show]]', '[[coach]] is related to [[show]]', '[[coach]] is related to [[advisor]]', '[[coach]] is related to [[team advisor]]', '[[coach]] is related to [[team sports]]', '[[economy]] is related to [[coach]]', '[[coach]] is related to [[teaching]]', '[[coach]] is related to [[training]]', '[[coach]] is related to [[trainer]]', '[[coach]] is related to [[guidance]]', '[[bandit]] is related to [[coach]]', '[[coach]] is related to [[whistle]]', '[[kissing]] requires [[a partner]]', '[[my partner]] is [[gay]]', '[[partnar]] is a translation of [[partner]]', '[[socio]] is a translation of [[partner]]', '[[partner]] is a translation of [[partner]]', '[[associar]] is a translation of [[partner]]', '[[elkartu]] is a translation of [[partner]]', '[[asociar]] is a translation of [[partner]]', '[[仲間]] is a translation of [[partner]]', '[[相棒]] is a translation of [[partner]]', '[[kaum syarikat]] is a translation of [[partner]]', '[[片棒]] is a translation of [[partner]]', '[[つれ合い]] is a translation of [[partner]]', '[[rakan kongsi]] is a translation of [[partner]]', '[[acompañar]] is a translation of [[partner]]', '[[cooperador]] is a translation of [[partner]]', '[[acompanyar]] is a translation of [[partner]]', '[[傍え]] is a translation of [[partner]]', '[[kumppani]] is a translation of [[partner]]', '[[partner]] is a type of [[person]]', '[[partner]] is a translation of [[partner]]', '[[bildu]] is a translation of [[partner]]', '[[kaum syarikat]] is a translation of [[partner]]', '[[copartner]] is a type of [[partner]]', '[[collaboratore]] is a translation of [[partner]]', '[[wspólnik]] is a translation of [[partner]]', '[[棒組み]] is a translation of [[partner]]', '[[soci]] is a translation of [[partner]]', '[[memasangkan]] is a translation of [[partner]]', '[[collaboratrice]] is a translation of [[partner]]', '[[acompanyar]] is a translation of [[partner]]', '[[伴侶]] is a translation of [[partner]]', '[[partenaire]] is a translation of [[partner]]', '[[partenaire]] is a translation of [[partner]]', '[[พาร์ตเนอร์]] is a translation of [[partner]]', '[[partner]] is a translation of [[partner]]', '[[partner]] is a way to [[act]]', '[[ผู้เป็นหุ้นส่วน]] is a translation of [[partner]]', '[[elkartea sortu]] is a translation of [[partner]]', '[[rakan usaha sama]] is a translation of [[partner]]', '[[elkartea osatu]] is a translation of [[partner]]', '[[elkartea eratu]] is a translation of [[partner]]', '[[partner]] is a synonym of [[spouse]]', '[[memasangkan]] is a translation of [[partner]]', '[[เป็นพาร์ตเนอร์]] is a translation of [[partner]]', '[[silent partner]] is a type of [[partner]]', '[[شَرِيك]] is a translation of [[partner]]', '[[toimia kumppanina]] is a translation of [[partner]]', '[[bikote]] is a translation of [[partner]]', '[[partner]] is a translation of [[partner]]', '[[muodostaa kumppanuus]] is a translation of [[partner]]', '[[همسر]] is a translation of [[partner]]', '[[colaborador]] is a translation of [[partner]]', '[[elkartu]] is a translation of [[partner]]', '[[partner]] is a synonym of [[collaborator]]', '[[compagno]] is a translation of [[partner]]', '[[colega]] is a translation of [[partner]]', '[[共同作業者]] is a translation of [[partner]]', '[[sócio]] is a translation of [[partner]]', '[[หุ้นส่วน]] is a translation of [[partner]]', '[[棒組]] is a translation of [[partner]]', '[[เป็นหุ้นส่วน]] is a translation of [[partner]]', '[[cooperatore]] is a translation of [[partner]]', '[[協力者]] is a translation of [[partner]]', '[[socio]] is a translation of [[partner]]', '[[bildu]] is a translation of [[partner]]', '[[elkartea eratu]] is a translation of [[partner]]', '[[acompañar]] is a translation of [[partner]]', '[[coparticipant]] is a translation of [[partner]]', '[[rakan kongsi]] is a translation of [[partner]]', '[[เป็นหุ้นส่วน]] is a translation of [[partner]]', '[[col·laborador]] is a translation of [[partner]]', '[[パートナー]] is a translation of [[partner]]', '[[傍]] is a translation of [[partner]]', '[[partner]] is a way to [[supply]]', '[[partenaire]] is a translation of [[partner]]', '[[mate]] is related to [[partner]]', '[[a person]] wants [[a partner]]', '[[A seeing-eye dog]] is [[a partner]]', '[[dancing the samba]] requires [[a partner]]', '[[Jill]] is [[my partner]]', 'You would [[meet girls]] because you want [[a partner]]', 'An activity [[your partner]] can do is [[wash dishes now and then]]', 'You would [[look better]] because you want [[a partner]]', '[[Your partner]] would make you want to [[go to a movie]]', '[[dance]] is related to [[partner]]', '[[thunder]] is related to [[partner]]', '[[accomplice]] is related to [[partner]]', '[[partner]] is related to [[spouse]]', '[[dad]] is related to [[partner]]', '[[chicken]] is related to [[partner]]', '[[cut]] is related to [[partner]]', '[[salt]] is related to [[partner]]', '[[partner]] is related to [[type spouse]]', '[[partner]] is related to [[type]]', '[[comrade]] is related to [[partner]]', '[[father]] is related to [[partner]]', '[[partner]] is related to [[business]]', '[[partner]] is related to [[or business]]', '[[partner]] is related to [[friend]]', '[[partner]] is related to [[associate friend]]', '[[partner]] is related to [[associate]]', '[[silver]] is related to [[partner]]', '[[ally]] is related to [[partner]]', '[[partner]] is related to [[another person]]', '[[partner]] is related to [[person]]', '[[partner]] is related to [[another]]', '[[partner]] is related to [[you]]', '[[vein]] is related to [[partner]]', '[[bow]] is related to [[partner]]', '[[partner]] is related to [[significant other]]', '[[partner]] is related to [[significant]]', '[[partner]] is related to [[other]]', '[[affair]] is related to [[partner]]', '[[opponent]] is related to [[partner]]', '[[either]] is related to [[partner]]', '[[stick]] is related to [[partner]]', '[[partner]] is related to [[helper]]', '[[partner]] is related to [[relationship]]', '[[king]] is related to [[partner]]', '[[dance]] is the opposite of [[partner]]', '[[dear]] is related to [[partner]]', '[[partner]] is related to [[duo]]', '[[or]] is related to [[partner]]', '[[scull]] is related to [[partner]]', '[[partner]] is related to [[team]]', '[[hope]] is related to [[partner]]', '[[partner]] is related to [[friendly association]]', '[[partner]] is related to [[friendly]]', '[[partner]] is related to [[association]]']\n"
          ]
        }
      ],
      "source": [
        "# Cricket subset extraction\n",
        "import requests\n",
        "sentence_list=[]\n",
        "def get_conceptnet_data(concept):\n",
        "\n",
        "    for i in concept:\n",
        "        base_url = \"https://api.conceptnet.io\"\n",
        "        endpoint = f\"/c/en/{i}?offset={0}&limit={10000}\"\n",
        "        url = base_url + endpoint\n",
        "\n",
        "        response = requests.get(url)\n",
        "        data = response.json()\n",
        "        edges = data.get('edges', \"\")\n",
        "        for edge in edges:\n",
        "            surface_text = edge.get('surfaceText', '')\n",
        "            if None==surface_text:\n",
        "                pass\n",
        "            else:\n",
        "                sentence_list.append(surface_text)\n",
        "\n",
        "\n",
        "    return sentence_list\n",
        "\n",
        "concept = [\"ground\",\"stadium\",\"coach\",\"partner\"]\n",
        "# concept=[\"cricket\"]\n",
        "conceptnet_data = get_conceptnet_data(concept)\n",
        "print(conceptnet_data)\n",
        "\n"
      ]
    },
    {
      "cell_type": "code",
      "execution_count": 74,
      "metadata": {
        "colab": {
          "base_uri": "https://localhost:8080/"
        },
        "id": "juLpLwd82nXv",
        "outputId": "bc7e93c1-2c65-40c0-b1fd-0a7f579302fe"
      },
      "outputs": [
        {
          "output_type": "stream",
          "name": "stdout",
          "text": [
            "690\n"
          ]
        }
      ],
      "source": [
        "print(len(sentence_list))"
      ]
    },
    {
      "cell_type": "code",
      "execution_count": 41,
      "metadata": {
        "colab": {
          "base_uri": "https://localhost:8080/"
        },
        "id": "6_3UT1jdwqod",
        "outputId": "c132c9d6-a0f2-489f-a1ae-24a34a35ef00"
      },
      "outputs": [
        {
          "output_type": "stream",
          "name": "stdout",
          "text": [
            "['Players are entertainers.', 'Stumping is a method of getting out.', 'Bowlers are players', 'Umpires are the decision takers.', 'Test cricket is the longest form of cricket.', 'Bails falling by the hit of the batsman costs a wicket.', \"If the nonstriker is out of line and the bowler hits the nonstriker's stumps that causes a wicket\", 'Getting injured in the game may affect the career.', 'Sledging the opponent may bring some benefits for the team.', 'Ball tampering may change the outcome of a match.', 'Stumps are found on both sides of the pitch.', 'Two umpires are seen on the field.', 'Audience stays in the gallery.', 'Security is seen at the entrance of the stadium.', 'Players rest in the dressing room.', 'Umpires conduct the match.', 'Umpires ensure the rule of cricket.', 'Audience cheers the players.', 'Captain leads the team.', 'Scoreboard shows the situation of the match.', 'To win a match, players need to be focused.', \"To get an lbw wicket, the ball must hit the batsman's pad first.\", 'Players need to stay fit to perform well in matches.', 'In a test match, players must stay hydrated to perform well.', 'Temporary bowlers are brought in to get a breakthrough of the opponent.', 'T20 is the shortest form of cricket.', 'Cricket is fun.', 'Fans are supporters.', 'Cricket is a gentleman’s game.', 'Fielders are hard workers.', 'During bowling, if the foot lands beyond the crease, it is a no-ball.', 'The fielder catching the ball hit by the batsman before hitting the ground results in a catch-out.', 'Ball tampering in a cricket match can result in a ban for the player involved.', 'The ball bowled outside a given width of the batting crease is given wide.', 'A batsman failing to reach the crease within two minutes of dismissal is granted a time-out.', 'Umpires are found in a cricket stadium.', 'Fans support their favorite team in the stadium.', 'Players often dive in the cricket field to save runs.', 'We can often see stalls and vendors in a cricket match.', 'Access to the gallery is exclusive to VIP guests for watching the game.', 'Umpires are present during the cricket match to make the right decisions.', 'Helmets provide protection to the batsman from being hit in the head by short fast-pitched bowling.', \"Leg pads protect the batsman's legs from the ball.\", 'Cricket bag carries cricketer’s items.', 'Bats are used by batsmen to hit the ball.', 'In order to bowl faster, bowlers have to practice regularly in the nets.', 'Batters need to bat aggressively to get more runs within limited overs.', \"Bowlers achieve reverse swing by skillfully manipulating the ball's condition.\", 'Depending on the condition of the pitch, the captain decides whether to bat or bowl first.', 'Bowlers frequently choose to bowl from around the wicket to dismiss the batsman.', 'Players are humans.', 'Cricket is a game.', 'Runs are scores.', 'Pitch is the area between two sets of stumps.', 'Tournaments are competitions.', 'A batsman hitting the ball causing it to cross the boundary without hitting the ground results in the team earning six runs.', 'Dismissal of a player causes stress to the batting team and its supporters.', 'Cheering for a team makes its players feel confident.', 'Rain causes the cricket match to be postponed.', 'A wet or damp pitch makes it difficult for the players to keep their balance.', 'We can find chairs in the gallery.', 'A field for playing cricket has stumps.', 'Stadiums have speakers.', 'There are scoreboards in stadiums.', 'The field consists of boundary markings.', 'Three stumps and two bails make up a wicket.', 'Gloves protect the wicket keeper’s hands.', 'Chest guards protect batsmen from the ball.', 'Spikes in cricket shoes help to have good grip.', 'Coaches provide expert advice to the players.', 'To score a run the batsman should strike the ball and run to the opposite end of the pitch while his batting partner runs in the other direction.', 'To field better, the players must practice a lot.', 'To make the match harder for the opponent, make as many runs as possible if you’re batting first.', 'To dismiss a batsman, catch the ball he/she struck before it touches the ground.', 'To get the best view of the match, you can sit on the chairs that are just a bit to the left or right of a straight pitch view in the stadium.']\n"
          ]
        }
      ],
      "source": [
        "# Anika, Moinul and Nafis Cricket subset\n",
        "import pandas as pd\n",
        "df_main = pd.read_csv('Cricket_sentences.csv')\n",
        "sentences = df_main['English sentences'].tolist()\n",
        "\n",
        "# Printing the converted list.\n",
        "print(sentences)"
      ]
    },
    {
      "cell_type": "code",
      "execution_count": null,
      "metadata": {
        "id": "_PmTKQjX72ic"
      },
      "outputs": [],
      "source": []
    },
    {
      "cell_type": "code",
      "execution_count": null,
      "metadata": {
        "colab": {
          "base_uri": "https://localhost:8080/"
        },
        "id": "-Y9SusN0fmM3",
        "outputId": "1b5b1f3b-c4e4-4f6f-85cd-99ac675e59f6"
      },
      "outputs": [
        {
          "output_type": "stream",
          "name": "stdout",
          "text": [
            "Collecting rouge\n",
            "  Downloading rouge-1.0.1-py3-none-any.whl (13 kB)\n",
            "Requirement already satisfied: six in /usr/local/lib/python3.10/dist-packages (from rouge) (1.16.0)\n",
            "Installing collected packages: rouge\n",
            "Successfully installed rouge-1.0.1\n"
          ]
        }
      ],
      "source": [
        "pip install rouge\n"
      ]
    },
    {
      "cell_type": "code",
      "execution_count": null,
      "metadata": {
        "id": "qlilUoJ_yVi1"
      },
      "outputs": [],
      "source": [
        "#Fine grained and semantic similarity\n",
        "import tensorflow as tf\n",
        "import tensorflow_hub as hub\n",
        "\n",
        "\n",
        "embed = hub.load(\"https://tfhub.dev/google/universal-sentence-encoder/4\")\n",
        "similar={}\n",
        "dissimilar={}\n",
        "close={}\n",
        "similarity=[]\n",
        "for i in range(len(sentence_list)):\n",
        "    for j in range(len(sentences)):\n",
        "\n",
        "        embeddings = embed([sentence_list[i], sentences[j]])\n",
        "        similarity_score = tf.reduce_sum(tf.multiply(embeddings[0], embeddings[1])).numpy()\n",
        "        similarity.append(similarity_score)\n",
        "        if similarity_score>=0.5:\n",
        "            similar[similarity_score]=[sentence_list[i], sentences[j]]\n",
        "        if similarity_score<0.5 and similarity_score>=0.1:\n",
        "            close[similarity_score]=[sentence_list[i], sentences[j]]\n",
        "        if similarity_score<0.1:\n",
        "            dissimilar[similarity_score]=[sentence_list[i], sentences[j]]\n",
        "\n",
        "\n",
        "\n",
        "print(f\"Semantic Similarity: {similarity}\")"
      ]
    },
    {
      "cell_type": "code",
      "execution_count": null,
      "metadata": {
        "id": "SROo08M7PKvT"
      },
      "outputs": [],
      "source": [
        "# print(len(similarity))\n",
        "f1=open(\"similar.txt\",\"w\")\n",
        "for i in similar.keys():\n",
        "    f1.write(str(i)+\" \")\n",
        "    for j in similar[i]:\n",
        "        f1.write(j+\",\"+\" \")\n",
        "    f1.write(\"\\n\")\n",
        "f1.close()"
      ]
    },
    {
      "cell_type": "code",
      "execution_count": null,
      "metadata": {
        "id": "sa__1vbRhdiA"
      },
      "outputs": [],
      "source": [
        "f1=open(\"dissimilar.txt\",\"w\")\n",
        "for i in dissimilar.keys():\n",
        "    f1.write(str(i)+\" \")\n",
        "    for j in dissimilar[i]:\n",
        "        f1.write(j+\",\"+\" \")\n",
        "    f1.write(\"\\n\")\n",
        "f1.close()"
      ]
    },
    {
      "cell_type": "code",
      "execution_count": null,
      "metadata": {
        "id": "u_opsc4XheiU"
      },
      "outputs": [],
      "source": [
        "f1=open(\"close.txt\",\"w\")\n",
        "for i in close.keys():\n",
        "    f1.write(str(i)+\" \")\n",
        "    for j in close[i]:\n",
        "        f1.write(j+\",\"+\" \")\n",
        "    f1.write(\"\\n\")\n",
        "f1.close()"
      ]
    },
    {
      "cell_type": "code",
      "execution_count": 75,
      "metadata": {
        "colab": {
          "base_uri": "https://localhost:8080/"
        },
        "id": "cghkyk3JLPhF",
        "outputId": "82453b47-731d-4483-9d28-fb96ba79c445"
      },
      "outputs": [
        {
          "output_type": "stream",
          "name": "stderr",
          "text": [
            "[nltk_data] Downloading package wordnet to /root/nltk_data...\n",
            "[nltk_data]   Package wordnet is already up-to-date!\n"
          ]
        }
      ],
      "source": [
        "#1,2 and 3 using lemmatization\n",
        "import spacy\n",
        "\n",
        "# Load the spaCy English model\n",
        "nlp = spacy.load(\"en_core_web_sm\")\n",
        "\n",
        "import nltk\n",
        "from nltk.stem import WordNetLemmatizer\n",
        "nltk.download('wordnet')\n",
        "lemmatizer = WordNetLemmatizer()\n",
        "\n",
        "sub_d={}\n",
        "obj_d={}\n",
        "obj_correct={}\n",
        "sub_correct={}\n",
        "for sentence in sentences:\n",
        "    for i in sentence_list:\n",
        "\n",
        "        doc = nlp(sentence)\n",
        "\n",
        "        subject = None\n",
        "        predicate = None\n",
        "        obj = None\n",
        "\n",
        "        for token in doc:\n",
        "            if \"subj\" in token.dep_:\n",
        "                subject = token.text\n",
        "            if \"obj\" in token.dep_:\n",
        "                obj = token.text\n",
        "            if \"ROOT\" in token.dep_:\n",
        "                predicate = token.text\n",
        "        if subject==None or obj==None or predicate==None:\n",
        "            pass\n",
        "        else:\n",
        "            new_sentence=i.replace(\"[\", \"\")\n",
        "            new_sentence=new_sentence.replace(\"]\", \"\")\n",
        "            subject=subject.lower()\n",
        "            obj=obj.lower()\n",
        "            predicate=predicate.lower()\n",
        "            new_subject=lemmatizer.lemmatize(subject)\n",
        "            new_obj=lemmatizer.lemmatize(obj)\n",
        "            new_predicate=lemmatizer.lemmatize(predicate)\n",
        "            if new_subject in new_sentence and new_predicate in new_sentence:\n",
        "                doc2 = nlp(new_sentence)\n",
        "\n",
        "                subject = None\n",
        "                predicate = None\n",
        "                obj = None\n",
        "\n",
        "                for token in doc2:\n",
        "                    if \"subj\" in token.dep_:\n",
        "                        subject = token.text\n",
        "                    if \"obj\" in token.dep_:\n",
        "                        obj = token.text\n",
        "                    if \"ROOT\" in token.dep_:\n",
        "                        predicate = token.text\n",
        "                if obj!=None:\n",
        "                    obj_d[obj]=[sentence,new_sentence]\n",
        "                    if obj in new_obj or new_obj in obj:\n",
        "                        obj_correct[obj]=[sentence,new_sentence]\n",
        "            if new_obj in new_sentence and new_predicate in new_sentence:\n",
        "                doc2 = nlp(new_sentence)\n",
        "\n",
        "                subject = None\n",
        "                predicate = None\n",
        "                obj = None\n",
        "\n",
        "                for token in doc2:\n",
        "                    if \"subj\" in token.dep_:\n",
        "                        subject = token.text\n",
        "                    if \"obj\" in token.dep_:\n",
        "                        obj = token.text\n",
        "                    if \"ROOT\" in token.dep_:\n",
        "                        predicate = token.text\n",
        "                if subject!=None:\n",
        "                    sub_d[subject]=[sentence,new_sentence]\n",
        "                    if subject in new_subject or new_subject in subject:\n",
        "                        sub_correct[subject]=[sentence,new_sentence]"
      ]
    },
    {
      "cell_type": "code",
      "execution_count": 76,
      "metadata": {
        "id": "gPvXxH2nXkWr"
      },
      "outputs": [],
      "source": [
        "#Rouge test\n",
        "from rouge import Rouge\n",
        "\n",
        "\n",
        "for key, value in sub_correct.items():\n",
        "    reference, candidate = value[0], value[1]\n",
        "\n",
        "\n",
        "    rouge = Rouge()\n",
        "\n",
        "\n",
        "    scores = rouge.get_scores(candidate, reference)\n",
        "\n",
        "\n",
        "    rouge_1_score = scores[0]['rouge-1']['f']\n",
        "    rouge_2_score = scores[0]['rouge-2']['f']\n",
        "    rouge_l_score = scores[0]['rouge-l']['f']\n",
        "\n",
        "\n",
        "    sub_correct[key] += [rouge_1_score, rouge_2_score, rouge_l_score]\n",
        "\n"
      ]
    },
    {
      "cell_type": "code",
      "execution_count": 77,
      "metadata": {
        "id": "j3chkN9Xl_P4"
      },
      "outputs": [],
      "source": [
        "#Rouge test\n",
        "from rouge import Rouge\n",
        "\n",
        "\n",
        "for key, value in obj_correct.items():\n",
        "    reference, candidate = value[0], value[1]\n",
        "\n",
        "    rouge = Rouge()\n",
        "\n",
        "\n",
        "    scores = rouge.get_scores(candidate, reference)\n",
        "\n",
        "    rouge_1_score = scores[0]['rouge-1']['f']\n",
        "    rouge_2_score = scores[0]['rouge-2']['f']\n",
        "    rouge_l_score = scores[0]['rouge-l']['f']\n",
        "\n",
        "\n",
        "    obj_correct[key] += [rouge_1_score, rouge_2_score, rouge_l_score]\n",
        "\n"
      ]
    },
    {
      "cell_type": "code",
      "execution_count": 78,
      "metadata": {
        "id": "dSe0dU8amNc_"
      },
      "outputs": [],
      "source": [
        "#Rouge test\n",
        "from rouge import Rouge\n",
        "\n",
        "\n",
        "for key, value in sub_d.items():\n",
        "    reference, candidate = value[0], value[1]\n",
        "\n",
        "\n",
        "    rouge = Rouge()\n",
        "\n",
        "\n",
        "    scores = rouge.get_scores(candidate, reference)\n",
        "\n",
        "\n",
        "    rouge_1_score = scores[0]['rouge-1']['f']\n",
        "    rouge_2_score = scores[0]['rouge-2']['f']\n",
        "    rouge_l_score = scores[0]['rouge-l']['f']\n",
        "\n",
        "    sub_d[key] += [rouge_1_score, rouge_2_score, rouge_l_score]\n",
        "\n"
      ]
    },
    {
      "cell_type": "code",
      "execution_count": 79,
      "metadata": {
        "id": "EXoAuK2xmXGI"
      },
      "outputs": [],
      "source": [
        "#Rouge test\n",
        "from rouge import Rouge\n",
        "\n",
        "\n",
        "for key, value in obj_d.items():\n",
        "    reference, candidate = value[0], value[1]\n",
        "\n",
        "\n",
        "    rouge = Rouge()\n",
        "\n",
        "\n",
        "    scores = rouge.get_scores(candidate, reference)\n",
        "\n",
        "\n",
        "    rouge_1_score = scores[0]['rouge-1']['f']\n",
        "    rouge_2_score = scores[0]['rouge-2']['f']\n",
        "    rouge_l_score = scores[0]['rouge-l']['f']\n",
        "\n",
        "\n",
        "    obj_d[key] += [rouge_1_score, rouge_2_score, rouge_l_score]\n",
        "\n"
      ]
    },
    {
      "cell_type": "code",
      "execution_count": 80,
      "metadata": {
        "id": "Mmo0BmmMmlCp"
      },
      "outputs": [],
      "source": [
        "f1=open(\"lemmatization correct subject.txt\",\"w\")\n",
        "for i in sub_correct.keys():\n",
        "    f1.write(str(i)+\":\"+\" \")\n",
        "    for j in sub_correct[i]:\n",
        "        f1.write(str(j)+\",\"+\" \")\n",
        "    f1.write(\"\\n\")\n",
        "f1.close()"
      ]
    },
    {
      "cell_type": "code",
      "execution_count": 81,
      "metadata": {
        "id": "UvRlPqLFnU-e"
      },
      "outputs": [],
      "source": [
        "f1=open(\"lemmatization subject.txt\",\"w\")\n",
        "for i in sub_d.keys():\n",
        "    f1.write(str(i)+\":\"+\" \")\n",
        "    for j in sub_d[i]:\n",
        "        f1.write(str(j)+\",\"+\" \")\n",
        "    f1.write(\"\\n\")\n",
        "f1.close()"
      ]
    },
    {
      "cell_type": "code",
      "execution_count": 82,
      "metadata": {
        "id": "AAaJzW8boHvK"
      },
      "outputs": [],
      "source": [
        "f1=open(\"lemmatization correct object.txt\",\"w\")\n",
        "for i in obj_correct.keys():\n",
        "    f1.write(str(i)+\":\"+\" \")\n",
        "    for j in obj_correct[i]:\n",
        "        f1.write(str(j)+\",\"+\" \")\n",
        "    f1.write(\"\\n\")\n",
        "f1.close()"
      ]
    },
    {
      "cell_type": "code",
      "execution_count": 83,
      "metadata": {
        "id": "fNmz6sbjoSaQ"
      },
      "outputs": [],
      "source": [
        "f1=open(\"lemmatization object.txt\",\"w\")\n",
        "for i in obj_d.keys():\n",
        "    f1.write(str(i)+\":\"+\" \")\n",
        "    for j in obj_d[i]:\n",
        "        f1.write(str(j)+\",\"+\" \")\n",
        "    f1.write(\"\\n\")\n",
        "f1.close()"
      ]
    },
    {
      "cell_type": "code",
      "execution_count": 84,
      "metadata": {
        "colab": {
          "base_uri": "https://localhost:8080/"
        },
        "id": "7GUuLIMDXlpA",
        "outputId": "aaa63c45-03e6-4adc-c3eb-3c59499c1914"
      },
      "outputs": [
        {
          "output_type": "stream",
          "name": "stderr",
          "text": [
            "[nltk_data] Downloading package wordnet to /root/nltk_data...\n",
            "[nltk_data]   Package wordnet is already up-to-date!\n"
          ]
        }
      ],
      "source": [
        "#4 and 5 using lemmatization\n",
        "import spacy\n",
        "\n",
        "\n",
        "nlp = spacy.load(\"en_core_web_sm\")\n",
        "\n",
        "import nltk\n",
        "from nltk.stem import WordNetLemmatizer\n",
        "nltk.download('wordnet')\n",
        "lemmatizer = WordNetLemmatizer()\n",
        "\n",
        "s={}\n",
        "o={}\n",
        "relation = [\"is a\", \"related to\", \"form of\", \"has a\", \"used for\", \"capable of\", \"purpose of\", \"location for\", \"causes\", \"subevent\", \"in order for\", \"as a property\", \"prevented by\", \"wants\", \"creates\", \"synonym\", \"antonym\", \"distinct\", \"derived from\", \"symbol of\", \"defined as\", \"way to\", \"manner of\", \"located near\", \"in context of\", \"made of\", \"symmetric\", \"common origin\", \"can be done to\"]\n",
        "for sentence in sentences:\n",
        "    for i in sentence_list:\n",
        "        doc = nlp(sentence)\n",
        "\n",
        "        subject = None\n",
        "        predicate = None\n",
        "        obj = None\n",
        "\n",
        "        for token in doc:\n",
        "            if \"subj\" in token.dep_:\n",
        "                subject = token.text\n",
        "            if \"obj\" in token.dep_:\n",
        "                obj = token.text\n",
        "            if \"ROOT\" in token.dep_:\n",
        "                predicate = token.text\n",
        "        if subject!=None:\n",
        "\n",
        "            new_sentence=i.replace(\"[\", \"\")\n",
        "            new_sentence=new_sentence.replace(\"]\", \"\")\n",
        "            subject=subject.lower()\n",
        "\n",
        "            new_subject=lemmatizer.lemmatize(subject)\n",
        "            if new_subject in new_sentence:\n",
        "                for j in relation:\n",
        "                    if j in new_sentence:\n",
        "                        doc2 = nlp(new_sentence)\n",
        "\n",
        "                        subject = None\n",
        "                        predicate = None\n",
        "                        obj = None\n",
        "\n",
        "                        for token in doc2:\n",
        "                            if \"subj\" in token.dep_:\n",
        "                                subject = token.text\n",
        "                            if \"obj\" in token.dep_:\n",
        "                                obj = token.text\n",
        "                            if \"ROOT\" in token.dep_:\n",
        "                                predicate = token.text\n",
        "                        if obj!=None:\n",
        "                            o[obj]=[sentence,new_sentence]\n",
        "        if obj!=None:\n",
        "            new_sentence=i.replace(\"[\", \"\")\n",
        "            new_sentence=new_sentence.replace(\"]\", \"\")\n",
        "\n",
        "            obj=obj.lower()\n",
        "            new_obj=lemmatizer.lemmatize(obj)\n",
        "            if new_obj in new_sentence:\n",
        "                for j in relation:\n",
        "                    if j in new_sentence:\n",
        "                        doc2 = nlp(new_sentence)\n",
        "\n",
        "                        subject = None\n",
        "                        predicate = None\n",
        "                        obj = None\n",
        "\n",
        "                        for token in doc2:\n",
        "                            if \"subj\" in token.dep_:\n",
        "                                subject = token.text\n",
        "                            if \"obj\" in token.dep_:\n",
        "                                obj = token.text\n",
        "                            if \"ROOT\" in token.dep_:\n",
        "                                predicate = token.text\n",
        "                        if subject!=None:\n",
        "                            s[subject]=[sentence,new_sentence]"
      ]
    },
    {
      "cell_type": "code",
      "execution_count": 87,
      "metadata": {
        "id": "HcSKuccptENM"
      },
      "outputs": [],
      "source": [
        "#Rouge test\n",
        "from rouge import Rouge\n",
        "\n",
        "\n",
        "for key, value in s.items():\n",
        "    reference, candidate = value[0], value[1]\n",
        "\n",
        "    rouge = Rouge()\n",
        "\n",
        "    scores = rouge.get_scores(candidate, reference)\n",
        "\n",
        "    rouge_1_score = scores[0]['rouge-1']['f']\n",
        "    rouge_2_score = scores[0]['rouge-2']['f']\n",
        "    rouge_l_score = scores[0]['rouge-l']['f']\n",
        "\n",
        "    s[key] += [rouge_1_score, rouge_2_score, rouge_l_score]\n",
        "\n"
      ]
    },
    {
      "cell_type": "code",
      "execution_count": 86,
      "metadata": {
        "id": "nuncA83HtIa_"
      },
      "outputs": [],
      "source": [
        "#Rouge test\n",
        "from rouge import Rouge\n",
        "\n",
        "for key, value in o.items():\n",
        "    reference, candidate = value[0], value[1]\n",
        "\n",
        "    rouge = Rouge()\n",
        "\n",
        "    scores = rouge.get_scores(candidate, reference)\n",
        "\n",
        "    rouge_1_score = scores[0]['rouge-1']['f']\n",
        "    rouge_2_score = scores[0]['rouge-2']['f']\n",
        "    rouge_l_score = scores[0]['rouge-l']['f']\n",
        "\n",
        "    o[key] += [rouge_1_score, rouge_2_score, rouge_l_score]\n",
        "\n"
      ]
    },
    {
      "cell_type": "code",
      "execution_count": 88,
      "metadata": {
        "id": "rkFxvhSkta-A"
      },
      "outputs": [],
      "source": [
        "f1=open(\"lemm_object.txt\",\"w\")\n",
        "for i in o.keys():\n",
        "    f1.write(str(i)+\":\"+\" \")\n",
        "    for j in o[i]:\n",
        "        f1.write(str(j)+\",\"+\" \")\n",
        "    f1.write(\"\\n\")\n",
        "f1.close()"
      ]
    },
    {
      "cell_type": "code",
      "execution_count": 89,
      "metadata": {
        "id": "E93fjhRrtb3B"
      },
      "outputs": [],
      "source": [
        "f1=open(\"lemm_subject.txt\",\"w\")\n",
        "for i in s.keys():\n",
        "    f1.write(str(i)+\":\"+\" \")\n",
        "    for j in s[i]:\n",
        "        f1.write(str(j)+\",\"+\" \")\n",
        "    f1.write(\"\\n\")\n",
        "f1.close()"
      ]
    },
    {
      "cell_type": "code",
      "execution_count": null,
      "metadata": {
        "id": "hNaAf0kuuOaU"
      },
      "outputs": [],
      "source": [
        "print(s)\n",
        "print(o)"
      ]
    },
    {
      "cell_type": "code",
      "execution_count": null,
      "metadata": {
        "id": "Lie8Gv7SywFn"
      },
      "outputs": [],
      "source": [
        "print(sub_d)\n",
        "print(obj_d)\n",
        "print(obj_correct)\n",
        "print(sub_correct)"
      ]
    },
    {
      "cell_type": "code",
      "execution_count": null,
      "metadata": {
        "id": "BK1CJxL5iHaO"
      },
      "outputs": [],
      "source": []
    },
    {
      "cell_type": "code",
      "execution_count": 90,
      "metadata": {
        "id": "ES5XnmhQ63qK"
      },
      "outputs": [],
      "source": [
        "#1,2 and 3 using stemming\n",
        "import spacy\n",
        "\n",
        "nlp = spacy.load(\"en_core_web_sm\")\n",
        "\n",
        "from nltk.stem import PorterStemmer\n",
        "\n",
        "\n",
        "porter_stemmer = PorterStemmer()\n",
        "\n",
        "sub_d={}\n",
        "obj_d={}\n",
        "obj_correct={}\n",
        "sub_correct={}\n",
        "for sentence in sentences:\n",
        "    for i in sentence_list:\n",
        "\n",
        "        doc = nlp(sentence)\n",
        "\n",
        "        subject = None\n",
        "        predicate = None\n",
        "        obj = None\n",
        "\n",
        "        for token in doc:\n",
        "            if \"subj\" in token.dep_:\n",
        "                subject = token.text\n",
        "            if \"obj\" in token.dep_:\n",
        "                obj = token.text\n",
        "            if \"ROOT\" in token.dep_:\n",
        "                predicate = token.text\n",
        "        if subject==None or obj==None or predicate==None:\n",
        "            pass\n",
        "        else:\n",
        "            new_sentence=i.replace(\"[\", \"\")\n",
        "            new_sentence=new_sentence.replace(\"]\", \"\")\n",
        "            subject=subject.lower()\n",
        "            obj=obj.lower()\n",
        "            predicate=predicate.lower()\n",
        "            new_subject=porter_stemmer.stem(subject)\n",
        "            new_obj=porter_stemmer.stem(obj)\n",
        "            new_predicate=porter_stemmer.stem(predicate)\n",
        "            if new_subject in new_sentence and new_predicate in new_sentence:\n",
        "                doc2 = nlp(new_sentence)\n",
        "\n",
        "                subject = None\n",
        "                predicate = None\n",
        "                obj = None\n",
        "\n",
        "                for token in doc2:\n",
        "                    if \"subj\" in token.dep_:\n",
        "                        subject = token.text\n",
        "                    if \"obj\" in token.dep_:\n",
        "                        obj = token.text\n",
        "                    if \"ROOT\" in token.dep_:\n",
        "                        predicate = token.text\n",
        "                if obj!=None:\n",
        "                    obj_d[obj]=[sentence,new_sentence]\n",
        "                    if obj in new_obj or new_obj in obj:\n",
        "                        obj_correct[obj]=[sentence,new_sentence]\n",
        "            if new_obj in new_sentence and new_predicate in new_sentence:\n",
        "                doc2 = nlp(new_sentence)\n",
        "\n",
        "                subject = None\n",
        "                predicate = None\n",
        "                obj = None\n",
        "\n",
        "                for token in doc2:\n",
        "                    if \"subj\" in token.dep_:\n",
        "                        subject = token.text\n",
        "                    if \"obj\" in token.dep_:\n",
        "                        obj = token.text\n",
        "                    if \"ROOT\" in token.dep_:\n",
        "                        predicate = token.text\n",
        "                if subject!=None:\n",
        "                    sub_d[subject]=[sentence,new_sentence]\n",
        "                    if subject in new_subject or new_subject in subject:\n",
        "                        sub_correct[subject]=[sentence,new_sentence]"
      ]
    },
    {
      "cell_type": "code",
      "execution_count": 91,
      "metadata": {
        "id": "EcdD66_YwM1k"
      },
      "outputs": [],
      "source": [
        "#Rouge test\n",
        "from rouge import Rouge\n",
        "\n",
        "\n",
        "for key, value in sub_correct.items():\n",
        "    reference, candidate = value[0], value[1]\n",
        "\n",
        "\n",
        "    rouge = Rouge()\n",
        "\n",
        "\n",
        "    scores = rouge.get_scores(candidate, reference)\n",
        "\n",
        "    rouge_1_score = scores[0]['rouge-1']['f']\n",
        "    rouge_2_score = scores[0]['rouge-2']['f']\n",
        "    rouge_l_score = scores[0]['rouge-l']['f']\n",
        "\n",
        "    sub_correct[key] += [rouge_1_score, rouge_2_score, rouge_l_score]\n",
        "\n"
      ]
    },
    {
      "cell_type": "code",
      "execution_count": 92,
      "metadata": {
        "id": "O67i1G_FwOPX"
      },
      "outputs": [],
      "source": [
        "#Rouge test\n",
        "from rouge import Rouge\n",
        "\n",
        "for key, value in obj_correct.items():\n",
        "    reference, candidate = value[0], value[1]\n",
        "\n",
        "    rouge = Rouge()\n",
        "\n",
        "    scores = rouge.get_scores(candidate, reference)\n",
        "\n",
        "    rouge_1_score = scores[0]['rouge-1']['f']\n",
        "    rouge_2_score = scores[0]['rouge-2']['f']\n",
        "    rouge_l_score = scores[0]['rouge-l']['f']\n",
        "\n",
        "    obj_correct[key] += [rouge_1_score, rouge_2_score, rouge_l_score]\n",
        "\n"
      ]
    },
    {
      "cell_type": "code",
      "execution_count": 93,
      "metadata": {
        "id": "FV_2FAdtwUbE"
      },
      "outputs": [],
      "source": [
        "#Rouge test\n",
        "from rouge import Rouge\n",
        "\n",
        "for key, value in sub_d.items():\n",
        "    reference, candidate = value[0], value[1]\n",
        "\n",
        "    rouge = Rouge()\n",
        "\n",
        "    scores = rouge.get_scores(candidate, reference)\n",
        "\n",
        "    rouge_1_score = scores[0]['rouge-1']['f']\n",
        "    rouge_2_score = scores[0]['rouge-2']['f']\n",
        "    rouge_l_score = scores[0]['rouge-l']['f']\n",
        "\n",
        "    sub_d[key] += [rouge_1_score, rouge_2_score, rouge_l_score]\n",
        "\n"
      ]
    },
    {
      "cell_type": "code",
      "execution_count": 94,
      "metadata": {
        "id": "YHQAeLvQwZ6U"
      },
      "outputs": [],
      "source": [
        "#Rouge test\n",
        "from rouge import Rouge\n",
        "\n",
        "for key, value in obj_d.items():\n",
        "    reference, candidate = value[0], value[1]\n",
        "\n",
        "    rouge = Rouge()\n",
        "\n",
        "    scores = rouge.get_scores(candidate, reference)\n",
        "\n",
        "    rouge_1_score = scores[0]['rouge-1']['f']\n",
        "    rouge_2_score = scores[0]['rouge-2']['f']\n",
        "    rouge_l_score = scores[0]['rouge-l']['f']\n",
        "\n",
        "\n",
        "    obj_d[key] += [rouge_1_score, rouge_2_score, rouge_l_score]\n",
        "\n"
      ]
    },
    {
      "cell_type": "code",
      "execution_count": 95,
      "metadata": {
        "id": "U7ycv7Bgwr5W"
      },
      "outputs": [],
      "source": [
        "f1=open(\"stemmed correct subject.txt\",\"w\")\n",
        "for i in sub_correct.keys():\n",
        "    f1.write(str(i)+\":\"+\" \")\n",
        "    for j in sub_correct[i]:\n",
        "        f1.write(str(j)+\",\"+\" \")\n",
        "    f1.write(\"\\n\")\n",
        "f1.close()"
      ]
    },
    {
      "cell_type": "code",
      "execution_count": 96,
      "metadata": {
        "id": "DtJnsv-jw1Kj"
      },
      "outputs": [],
      "source": [
        "f1=open(\"stemmed correct object.txt\",\"w\")\n",
        "for i in obj_correct.keys():\n",
        "    f1.write(str(i)+\":\"+\" \")\n",
        "    for j in obj_correct[i]:\n",
        "        f1.write(str(j)+\",\"+\" \")\n",
        "    f1.write(\"\\n\")\n",
        "f1.close()"
      ]
    },
    {
      "cell_type": "code",
      "execution_count": 97,
      "metadata": {
        "id": "-Fe-c-kSw8uK"
      },
      "outputs": [],
      "source": [
        "f1=open(\"stemmed subject.txt\",\"w\")\n",
        "for i in sub_d.keys():\n",
        "    f1.write(str(i)+\":\"+\" \")\n",
        "    for j in sub_d[i]:\n",
        "        f1.write(str(j)+\",\"+\" \")\n",
        "    f1.write(\"\\n\")\n",
        "f1.close()"
      ]
    },
    {
      "cell_type": "code",
      "execution_count": 98,
      "metadata": {
        "id": "T3kBhrWTxK-m"
      },
      "outputs": [],
      "source": [
        "f1=open(\"stemmed object.txt\",\"w\")\n",
        "for i in obj_d.keys():\n",
        "    f1.write(str(i)+\":\"+\" \")\n",
        "    for j in obj_d[i]:\n",
        "        f1.write(str(j)+\",\"+\" \")\n",
        "    f1.write(\"\\n\")\n",
        "f1.close()"
      ]
    },
    {
      "cell_type": "code",
      "execution_count": null,
      "metadata": {
        "id": "M70edrh87ooH"
      },
      "outputs": [],
      "source": [
        "print(sub_d)\n",
        "print(obj_d)\n",
        "print(obj_correct)\n",
        "print(sub_correct)"
      ]
    },
    {
      "cell_type": "code",
      "execution_count": 99,
      "metadata": {
        "id": "vBmzxuMac06f"
      },
      "outputs": [],
      "source": [
        "#4 and 5 using stemming\n",
        "import spacy\n",
        "\n",
        "nlp = spacy.load(\"en_core_web_sm\")\n",
        "\n",
        "from nltk.stem import PorterStemmer\n",
        "\n",
        "porter_stemmer = PorterStemmer()\n",
        "\n",
        "s={}\n",
        "o={}\n",
        "relation = [\"is a\", \"related to\", \"form of\", \"has a\", \"used for\", \"capable of\", \"purpose of\", \"location for\", \"causes\", \"subevent\", \"in order for\", \"as a property\", \"prevented by\", \"wants\", \"creates\", \"synonym\", \"antonym\", \"distinct\", \"derived from\", \"symbol of\", \"defined as\", \"way to\", \"manner of\", \"located near\", \"in context of\", \"made of\", \"symmetric\", \"common origin\", \"can be done to\"]\n",
        "for sentence in sentences:\n",
        "    for i in sentence_list:\n",
        "        doc = nlp(sentence)\n",
        "\n",
        "        subject = None\n",
        "        predicate = None\n",
        "        obj = None\n",
        "\n",
        "        for token in doc:\n",
        "            if \"subj\" in token.dep_:\n",
        "                subject = token.text\n",
        "            if \"obj\" in token.dep_:\n",
        "                obj = token.text\n",
        "            if \"ROOT\" in token.dep_:\n",
        "                predicate = token.text\n",
        "        if subject!=None:\n",
        "\n",
        "            new_sentence=i.replace(\"[\", \"\")\n",
        "            new_sentence=new_sentence.replace(\"]\", \"\")\n",
        "            subject=subject.lower()\n",
        "\n",
        "            new_subject=porter_stemmer.stem(subject)\n",
        "            if new_subject in new_sentence:\n",
        "                for j in relation:\n",
        "                    if j in new_sentence:\n",
        "                        doc2 = nlp(new_sentence)\n",
        "\n",
        "                        subject = None\n",
        "                        predicate = None\n",
        "                        obj = None\n",
        "\n",
        "                        for token in doc2:\n",
        "                            if \"subj\" in token.dep_:\n",
        "                                subject = token.text\n",
        "                            if \"obj\" in token.dep_:\n",
        "                                obj = token.text\n",
        "                            if \"ROOT\" in token.dep_:\n",
        "                                predicate = token.text\n",
        "                        if obj!=None:\n",
        "                            o[obj]=[sentence,new_sentence]\n",
        "        if obj!=None:\n",
        "            new_sentence=i.replace(\"[\", \"\")\n",
        "            new_sentence=new_sentence.replace(\"]\", \"\")\n",
        "\n",
        "            obj=obj.lower()\n",
        "            new_obj=porter_stemmer.stem(obj)\n",
        "            if new_obj in new_sentence:\n",
        "                for j in relation:\n",
        "                    if j in new_sentence:\n",
        "                        doc2 = nlp(new_sentence)\n",
        "\n",
        "                        subject = None\n",
        "                        predicate = None\n",
        "                        obj = None\n",
        "\n",
        "                        for token in doc2:\n",
        "                            if \"subj\" in token.dep_:\n",
        "                                subject = token.text\n",
        "                            if \"obj\" in token.dep_:\n",
        "                                obj = token.text\n",
        "                            if \"ROOT\" in token.dep_:\n",
        "                                predicate = token.text\n",
        "                        if subject!=None:\n",
        "                            s[subject]=[sentence,new_sentence]"
      ]
    },
    {
      "cell_type": "code",
      "execution_count": 100,
      "metadata": {
        "id": "FgXuyRWPxWTS"
      },
      "outputs": [],
      "source": [
        "#Rouge test\n",
        "from rouge import Rouge\n",
        "\n",
        "for key, value in s.items():\n",
        "    reference, candidate = value[0], value[1]\n",
        "\n",
        "    rouge = Rouge()\n",
        "\n",
        "    scores = rouge.get_scores(candidate, reference)\n",
        "\n",
        "    rouge_1_score = scores[0]['rouge-1']['f']\n",
        "    rouge_2_score = scores[0]['rouge-2']['f']\n",
        "    rouge_l_score = scores[0]['rouge-l']['f']\n",
        "\n",
        "    s[key] += [rouge_1_score, rouge_2_score, rouge_l_score]\n",
        "\n"
      ]
    },
    {
      "cell_type": "code",
      "execution_count": 101,
      "metadata": {
        "id": "vnXi3iOOxZ2i"
      },
      "outputs": [],
      "source": [
        "#Rouge test\n",
        "from rouge import Rouge\n",
        "\n",
        "for key, value in o.items():\n",
        "    reference, candidate = value[0], value[1]\n",
        "\n",
        "    rouge = Rouge()\n",
        "\n",
        "    scores = rouge.get_scores(candidate, reference)\n",
        "\n",
        "    rouge_1_score = scores[0]['rouge-1']['f']\n",
        "    rouge_2_score = scores[0]['rouge-2']['f']\n",
        "    rouge_l_score = scores[0]['rouge-l']['f']\n",
        "\n",
        "    o[key] += [rouge_1_score, rouge_2_score, rouge_l_score]\n",
        "\n"
      ]
    },
    {
      "cell_type": "code",
      "execution_count": 102,
      "metadata": {
        "id": "3VRtvW8axnCX"
      },
      "outputs": [],
      "source": [
        "f1=open(\"stemm_subject.txt\",\"w\")\n",
        "for i in s.keys():\n",
        "    f1.write(str(i)+\":\"+\" \")\n",
        "    for j in s[i]:\n",
        "        f1.write(str(j)+\",\"+\" \")\n",
        "    f1.write(\"\\n\")\n",
        "f1.close()"
      ]
    },
    {
      "cell_type": "code",
      "execution_count": 103,
      "metadata": {
        "id": "EqIkCQwgxrBx"
      },
      "outputs": [],
      "source": [
        "f1=open(\"stemm_object.txt\",\"w\")\n",
        "for i in o.keys():\n",
        "    f1.write(str(i)+\":\"+\" \")\n",
        "    for j in o[i]:\n",
        "        f1.write(str(j)+\",\"+\" \")\n",
        "    f1.write(\"\\n\")\n",
        "f1.close()"
      ]
    },
    {
      "cell_type": "code",
      "execution_count": null,
      "metadata": {
        "id": "zl4q9xuhecaS"
      },
      "outputs": [],
      "source": [
        "print(s)\n",
        "print(o)"
      ]
    }
  ],
  "metadata": {
    "colab": {
      "provenance": []
    },
    "kernelspec": {
      "display_name": "Python 3",
      "name": "python3"
    },
    "language_info": {
      "name": "python"
    }
  },
  "nbformat": 4,
  "nbformat_minor": 0
}